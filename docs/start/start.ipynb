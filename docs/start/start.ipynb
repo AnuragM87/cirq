{
  "cells": [
    {
      "cell_type": "markdown",
      "metadata": {
        "id": "gXXhctqjgXO7"
      },
      "source": [
        "##### Copyright 2022 The Cirq Developers"
      ]
    },
    {
      "cell_type": "code",
      "source": [
        "import cirq\n",
        "qubit= cirq.GridQubit(0,0)\n",
        "\n",
        "circuit = cirq.Circuit(\n",
        "    cirq.X(qubit),\n",
        "    cirq.measure(qubit,key='m')\n",
        ")\n",
        "\n",
        "print(\"Circuit:\")\n",
        "print(circuit)\n",
        "\n",
        "\n"
      ],
      "metadata": {
        "colab": {
          "base_uri": "https://localhost:8080/"
        },
        "id": "XILqA7y8VkxU",
        "outputId": "2e895482-3508-42cf-ccd9-607719135483"
      },
      "execution_count": 4,
      "outputs": [
        {
          "output_type": "stream",
          "name": "stdout",
          "text": [
            "Circuit:\n",
            "(0, 0): ───X───M('m')───\n"
          ]
        }
      ]
    },
    {
      "cell_type": "code",
      "source": [
        "simulator=cirq.Simulator()\n",
        "result=simulator.run(circuit,repetitions=10)\n",
        "\n",
        "print(\"Results:\")\n",
        "print(result)"
      ],
      "metadata": {
        "colab": {
          "base_uri": "https://localhost:8080/"
        },
        "id": "LLhOpT0kVmUQ",
        "outputId": "0663b090-d402-45e3-83f1-e5bfcaed1977"
      },
      "execution_count": 6,
      "outputs": [
        {
          "output_type": "stream",
          "name": "stdout",
          "text": [
            "Results:\n",
            "m=1111111111\n"
          ]
        }
      ]
    },
    {
      "cell_type": "code",
      "source": [
        "qreg=[cirq.LineQubit(x) for x in range(2)]\n",
        "circ=cirq.Circuit()\n",
        "circ.append([cirq.H(qreg[0]),cirq.CNOT(qreg[0],qreg[1])])\n",
        "print(\"circuit:\")\n",
        "print(circ)\n"
      ],
      "metadata": {
        "colab": {
          "base_uri": "https://localhost:8080/"
        },
        "id": "8GCDNaQQWVOl",
        "outputId": "097d79a0-1d52-491a-97c6-cbca94a0c10c"
      },
      "execution_count": 7,
      "outputs": [
        {
          "output_type": "stream",
          "name": "stdout",
          "text": [
            "circuit:\n",
            "0: ───H───@───\n",
            "          │\n",
            "1: ───────X───\n"
          ]
        }
      ]
    },
    {
      "cell_type": "code",
      "source": [
        "circ.append(cirq.measure(*qreg,key=\"z\"))\n",
        "\n",
        "sim=cirq.Simulator()\n",
        "res=sim.run(circ,repetitions=100)\n",
        "\n",
        "print(\"\\n Measurements: \")\n",
        "print(res.histogram(key=\"z\"))"
      ],
      "metadata": {
        "colab": {
          "base_uri": "https://localhost:8080/"
        },
        "id": "e3UOlFoSah2z",
        "outputId": "07f3a7c5-ba5b-47cd-87b8-2fb9bc60bf51"
      },
      "execution_count": 8,
      "outputs": [
        {
          "output_type": "stream",
          "name": "stdout",
          "text": [
            "\n",
            " Measurements: \n",
            "Counter({0: 53, 3: 47})\n"
          ]
        }
      ]
    },
    {
      "cell_type": "markdown",
      "source": [
        "# **gates  with parameters**\n",
        "\n",
        "working with parameterized gates in cirq\n"
      ],
      "metadata": {
        "id": "fKV4Ym8hbyla"
      }
    },
    {
      "cell_type": "code",
      "source": [
        "import matplotlib.pyplot as plt\n",
        "import sympy\n",
        "import cirq\n",
        "\n",
        "qbit=cirq.LineQubit(0)\n",
        "circ=cirq.Circuit()\n",
        "\n",
        "symbol=sympy.Symbol(\"t\")\n",
        "\n",
        "circ.append(cirq.XPowGate(exponent=symbol)(qbit))\n",
        "\n",
        "circ.append(cirq.measure(qbit,key=\"z\"))\n",
        "\n",
        "print(\"Circuit:\")\n",
        "print(circ)"
      ],
      "metadata": {
        "colab": {
          "base_uri": "https://localhost:8080/"
        },
        "id": "6geJGs97bH07",
        "outputId": "0acd2e3b-bfa2-4cef-dc5b-aee9dd525575"
      },
      "execution_count": 14,
      "outputs": [
        {
          "output_type": "stream",
          "name": "stdout",
          "text": [
            "Circuit:\n",
            "0: ───X^t───M('z')───\n"
          ]
        }
      ]
    },
    {
      "cell_type": "code",
      "source": [
        "sweep=cirq.Linspace(key=symbol.name,start=0.0,stop=2.0,length=100)\n",
        "sim=cirq.Simulator()\n",
        "\n",
        "res=sim.run_sweep(circ,sweep,repetitions=1000)\n",
        "\n",
        "angles=[x[0][1] for x in sweep.param_tuples()]\n",
        "zeroes=[res[i].histogram(key=\"z\")[0]/1000 for i in range(len(res))]\n",
        "\n",
        "plt.plot(angles,zeroes)\n",
        "plt.xlabel(\"Frequency of 0 measurements\")\n",
        "plt.ylabel(\"Exponent of x gate\")\n",
        "plt.grid()\n",
        "plt.savefig(\"param-sweep-cirq.pdf\",format=\"pdf\")\n",
        "\n"
      ],
      "metadata": {
        "colab": {
          "base_uri": "https://localhost:8080/",
          "height": 449
        },
        "id": "oZT-lK_lcLav",
        "outputId": "617895cf-95cb-4ba5-aa4a-466fbb74a67c"
      },
      "execution_count": 16,
      "outputs": [
        {
          "output_type": "display_data",
          "data": {
            "text/plain": [
              "<Figure size 640x480 with 1 Axes>"
            ],
            "image/png": "[encoded data removed]"
          },
          "metadata": {}
        }
      ]
    },
    {
      "cell_type": "markdown",
      "source": [
        "# The Deutsch-Jozsa Algorithm"
      ],
      "metadata": {
        "id": "BPbiph7JseXb"
      }
    },
    {
      "cell_type": "code",
      "source": [
        "import cirq\n",
        "\n",
        "#get two qubits\n",
        "\n",
        "q0,q1=cirq.LineQubit.range(2)\n",
        "\n",
        "# dictionary of oracles\n",
        "\n",
        "oracles={'0':[],'1':[cirq.X(q1)],'x':[cirq.CNOT(q0,q1)],'notx':[cirq.CNOT(q0,q1),cirq.X(q1)]}\n",
        "\n",
        "\n",
        "\n",
        "def deutsch_algorithm(oracle):\n",
        "  \"\"\"\n",
        "  yields a circuit for deutsch's algorithm\n",
        "  given operations implementing the oracle\n",
        "  \"\"\"\n",
        "\n",
        "  yield cirq.X(q1)\n",
        "  yield cirq.H(q0)\n",
        "  yield cirq.H(q1)\n",
        "\n",
        "  yield oracle\n",
        "\n",
        "  yield cirq.H(q0)\n",
        "  yield cirq.measure(q0)\n",
        "\n",
        "# display each circuit for all oracles\n",
        "for key, oracle in oracles.items():\n",
        "  print('circuit for {}...'.format(key))\n",
        "  # print((cirq.Circuit.from_ops(list(deutsch_algorithm(oracle)))),end='\\n\\\\n')\n",
        "  print(cirq.Circuit(list(deutsch_algorithm(oracle))), end='\\n\\n')\n",
        "\n",
        "\n",
        "\n",
        "  #get simulator\n",
        "\n",
        "simulator=cirq.Simulator()\n",
        "\n",
        "#run each circuit for all oracles\n",
        "for key,oracle in oracles.items():\n",
        "  print('results for {}...'.format(key))\n",
        "  result=simulator.run(cirq.Circuit(list(deutsch_algorithm(oracle))),repetitions=10)\n",
        "  print('oracle: {:<4} results: {}'.format(key,result))\n",
        "\n"
      ],
      "metadata": {
        "colab": {
          "base_uri": "https://localhost:8080/"
        },
        "id": "V9Xmf8hseYkO",
        "outputId": "6265a9e0-ffa1-47ec-b9db-4d4fd9f408c1"
      },
      "execution_count": 19,
      "outputs": [
        {
          "output_type": "stream",
          "name": "stdout",
          "text": [
            "circuit for 0...\n",
            "0: ───H───H───M───\n",
            "\n",
            "1: ───X───H───────\n",
            "\n",
            "circuit for 1...\n",
            "0: ───H───H───M───\n",
            "\n",
            "1: ───X───H───X───\n",
            "\n",
            "circuit for x...\n",
            "0: ───H───────@───H───M───\n",
            "              │\n",
            "1: ───X───H───X───────────\n",
            "\n",
            "circuit for notx...\n",
            "0: ───H───────@───H───M───\n",
            "              │\n",
            "1: ───X───H───X───X───────\n",
            "\n",
            "results for 0...\n",
            "oracle: 0    results: q(0)=0000000000\n",
            "results for 1...\n",
            "oracle: 1    results: q(0)=0000000000\n",
            "results for x...\n",
            "oracle: x    results: q(0)=1111111111\n",
            "results for notx...\n",
            "oracle: notx results: q(0)=1111111111\n"
          ]
        }
      ]
    },
    {
      "cell_type": "code",
      "source": [],
      "metadata": {
        "id": "V_mkCxGOu9tA"
      },
      "execution_count": null,
      "outputs": []
    }
  ],
  "metadata": {
    "colab": {
      "name": "start.ipynb",
      "provenance": []
    },
    "kernelspec": {
      "display_name": "Python 3",
      "name": "python3"
    }
  },
  "nbformat": 4,
  "nbformat_minor": 0
}